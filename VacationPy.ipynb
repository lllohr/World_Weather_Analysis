{
 "cells": [
  {
   "cell_type": "code",
   "execution_count": 2,
   "id": "0bf3f0dc",
   "metadata": {},
   "outputs": [],
   "source": [
    "# Import the dependencies.\n",
    "import pandas as pd\n",
    "import gmaps\n",
    "import requests\n",
    "# Import the API key.\n",
    "from config import g_key\n",
    "import os"
   ]
  },
  {
   "cell_type": "code",
   "execution_count": 3,
   "id": "fb53051d",
   "metadata": {},
   "outputs": [
    {
     "data": {
      "text/html": [
       "<div>\n",
       "<style scoped>\n",
       "    .dataframe tbody tr th:only-of-type {\n",
       "        vertical-align: middle;\n",
       "    }\n",
       "\n",
       "    .dataframe tbody tr th {\n",
       "        vertical-align: top;\n",
       "    }\n",
       "\n",
       "    .dataframe thead th {\n",
       "        text-align: right;\n",
       "    }\n",
       "</style>\n",
       "<table border=\"1\" class=\"dataframe\">\n",
       "  <thead>\n",
       "    <tr style=\"text-align: right;\">\n",
       "      <th></th>\n",
       "      <th>City_ID</th>\n",
       "      <th>City</th>\n",
       "      <th>Cloudiness</th>\n",
       "      <th>Country</th>\n",
       "      <th>Date</th>\n",
       "      <th>Humidity</th>\n",
       "      <th>Lat</th>\n",
       "      <th>Lng</th>\n",
       "      <th>Max Temp</th>\n",
       "      <th>Wind Speed</th>\n",
       "    </tr>\n",
       "  </thead>\n",
       "  <tbody>\n",
       "    <tr>\n",
       "      <th>0</th>\n",
       "      <td>0</td>\n",
       "      <td>Jamestown</td>\n",
       "      <td>100</td>\n",
       "      <td>US</td>\n",
       "      <td>2022-03-27 03:57:31</td>\n",
       "      <td>71</td>\n",
       "      <td>42.0970</td>\n",
       "      <td>-79.2353</td>\n",
       "      <td>30.02</td>\n",
       "      <td>10.36</td>\n",
       "    </tr>\n",
       "    <tr>\n",
       "      <th>1</th>\n",
       "      <td>1</td>\n",
       "      <td>Hilo</td>\n",
       "      <td>40</td>\n",
       "      <td>US</td>\n",
       "      <td>2022-03-27 03:59:20</td>\n",
       "      <td>97</td>\n",
       "      <td>19.7297</td>\n",
       "      <td>-155.0900</td>\n",
       "      <td>73.26</td>\n",
       "      <td>1.01</td>\n",
       "    </tr>\n",
       "    <tr>\n",
       "      <th>2</th>\n",
       "      <td>2</td>\n",
       "      <td>Mataura</td>\n",
       "      <td>0</td>\n",
       "      <td>NZ</td>\n",
       "      <td>2022-03-27 04:01:12</td>\n",
       "      <td>50</td>\n",
       "      <td>-46.1927</td>\n",
       "      <td>168.8643</td>\n",
       "      <td>69.48</td>\n",
       "      <td>3.22</td>\n",
       "    </tr>\n",
       "    <tr>\n",
       "      <th>3</th>\n",
       "      <td>3</td>\n",
       "      <td>Kadipaten</td>\n",
       "      <td>71</td>\n",
       "      <td>ID</td>\n",
       "      <td>2022-03-27 04:01:13</td>\n",
       "      <td>63</td>\n",
       "      <td>-8.1357</td>\n",
       "      <td>113.2158</td>\n",
       "      <td>86.29</td>\n",
       "      <td>3.65</td>\n",
       "    </tr>\n",
       "    <tr>\n",
       "      <th>4</th>\n",
       "      <td>4</td>\n",
       "      <td>Ushuaia</td>\n",
       "      <td>100</td>\n",
       "      <td>AR</td>\n",
       "      <td>2022-03-27 04:00:12</td>\n",
       "      <td>99</td>\n",
       "      <td>-54.8000</td>\n",
       "      <td>-68.3000</td>\n",
       "      <td>39.94</td>\n",
       "      <td>5.23</td>\n",
       "    </tr>\n",
       "  </tbody>\n",
       "</table>\n",
       "</div>"
      ],
      "text/plain": [
       "   City_ID       City  Cloudiness Country                 Date  Humidity  \\\n",
       "0        0  Jamestown         100      US  2022-03-27 03:57:31        71   \n",
       "1        1       Hilo          40      US  2022-03-27 03:59:20        97   \n",
       "2        2    Mataura           0      NZ  2022-03-27 04:01:12        50   \n",
       "3        3  Kadipaten          71      ID  2022-03-27 04:01:13        63   \n",
       "4        4    Ushuaia         100      AR  2022-03-27 04:00:12        99   \n",
       "\n",
       "       Lat       Lng  Max Temp  Wind Speed  \n",
       "0  42.0970  -79.2353     30.02       10.36  \n",
       "1  19.7297 -155.0900     73.26        1.01  \n",
       "2 -46.1927  168.8643     69.48        3.22  \n",
       "3  -8.1357  113.2158     86.29        3.65  \n",
       "4 -54.8000  -68.3000     39.94        5.23  "
      ]
     },
     "execution_count": 3,
     "metadata": {},
     "output_type": "execute_result"
    }
   ],
   "source": [
    "# Store the CSV you saved created in part one into a DataFrame.\n",
    "city_data_df = pd.read_csv(\"weather_data/cities.csv\")\n",
    "city_data_df.head()"
   ]
  },
  {
   "cell_type": "code",
   "execution_count": 4,
   "id": "326bd0a7",
   "metadata": {},
   "outputs": [
    {
     "data": {
      "text/plain": [
       "City_ID         int64\n",
       "City           object\n",
       "Cloudiness      int64\n",
       "Country        object\n",
       "Date           object\n",
       "Humidity        int64\n",
       "Lat           float64\n",
       "Lng           float64\n",
       "Max Temp      float64\n",
       "Wind Speed    float64\n",
       "dtype: object"
      ]
     },
     "execution_count": 4,
     "metadata": {},
     "output_type": "execute_result"
    }
   ],
   "source": [
    "city_data_df.dtypes"
   ]
  },
  {
   "cell_type": "code",
   "execution_count": 5,
   "id": "44eb78f5",
   "metadata": {},
   "outputs": [],
   "source": [
    "# Configure gmaps to use your Google API key.\n",
    "gmaps.configure(api_key=g_key)"
   ]
  },
  {
   "cell_type": "code",
   "execution_count": 8,
   "id": "fc4f07a3",
   "metadata": {},
   "outputs": [],
   "source": [
    "# Get the maximum temperature.\n",
    "max_temp = city_data_df[\"Max Temp\"]\n",
    "temps = []\n",
    "for temp in max_temp:\n",
    "    temps.append(max(temp, 0))"
   ]
  },
  {
   "cell_type": "code",
   "execution_count": 13,
   "id": "2f6c8bd6",
   "metadata": {},
   "outputs": [
    {
     "data": {
      "application/vnd.jupyter.widget-view+json": {
       "model_id": "8eb9c0b5103544b783f4802d903683d3",
       "version_major": 2,
       "version_minor": 0
      },
      "text/plain": [
       "Figure(layout=FigureLayout(height='420px'))"
      ]
     },
     "metadata": {},
     "output_type": "display_data"
    }
   ],
   "source": [
    "# Heatmap of temperature\n",
    "# Get the latitude and longitude.\n",
    "locations = city_data_df[[\"Lat\", \"Lng\"]]\n",
    "# Get the maximum temperature.\n",
    "max_temp = city_data_df[\"Max Temp\"]\n",
    "# Assign the figure variable.\n",
    "fig = gmaps.figure(center=(30.0, 31.0), zoom_level=1.5)\n",
    "# Assign the heatmap variable.\n",
    "heat_layer = heat_layer = gmaps.heatmap_layer(locations, weights=[max(temp, 0) for temp in max_temp], dissipating=False, max_intensity=300, point_radius=4)\n",
    "# Add the heatmap layer.\n",
    "fig.add_layer(heat_layer)\n",
    "# Call the figure to plot the data.\n",
    "fig"
   ]
  },
  {
   "cell_type": "code",
   "execution_count": 14,
   "id": "4be51719",
   "metadata": {},
   "outputs": [
    {
     "data": {
      "application/vnd.jupyter.widget-view+json": {
       "model_id": "75339e07eba54711ad3f915b7285bf02",
       "version_major": 2,
       "version_minor": 0
      },
      "text/plain": [
       "Figure(layout=FigureLayout(height='420px'))"
      ]
     },
     "metadata": {},
     "output_type": "display_data"
    }
   ],
   "source": [
    "# Heatmap of percent humidity\n",
    "locations = city_data_df[[\"Lat\", \"Lng\"]]\n",
    "humidity = city_data_df[\"Humidity\"]\n",
    "fig = gmaps.figure(center=(30.0, 31.0), zoom_level=1.5)\n",
    "heat_layer = gmaps.heatmap_layer(locations, weights=humidity, dissipating=False, max_intensity=300, point_radius=4)\n",
    "\n",
    "fig.add_layer(heat_layer)\n",
    "# Call the figure to plot the data.\n",
    "fig"
   ]
  },
  {
   "cell_type": "code",
   "execution_count": 17,
   "id": "0a3e4e62",
   "metadata": {},
   "outputs": [
    {
     "data": {
      "application/vnd.jupyter.widget-view+json": {
       "model_id": "1992d368016c4b8ba41775f424aec16e",
       "version_major": 2,
       "version_minor": 0
      },
      "text/plain": [
       "Figure(layout=FigureLayout(height='420px'))"
      ]
     },
     "metadata": {},
     "output_type": "display_data"
    }
   ],
   "source": [
    "# Heatmap of percent cloudiness\n",
    "locations = city_data_df[[\"Lat\", \"Lng\"]]\n",
    "clouds = city_data_df[\"Cloudiness\"]\n",
    "\n",
    "fig = gmaps.figure(center=(30.0, 31.0), zoom_level=1.5)\n",
    "heat_layer = gmaps.heatmap_layer(locations, weights=clouds, dissipating=False, max_intensity=300, point_radius=4)\n",
    "\n",
    "fig.add_layer(heat_layer)\n",
    "# Call the figure to plot the data.\n",
    "fig"
   ]
  },
  {
   "cell_type": "code",
   "execution_count": 18,
   "id": "144ede8c",
   "metadata": {},
   "outputs": [
    {
     "data": {
      "application/vnd.jupyter.widget-view+json": {
       "model_id": "ab59e66b9c3e49748fe7e441caa02cef",
       "version_major": 2,
       "version_minor": 0
      },
      "text/plain": [
       "Figure(layout=FigureLayout(height='420px'))"
      ]
     },
     "metadata": {},
     "output_type": "display_data"
    }
   ],
   "source": [
    "# Heatmap of wind speed\n",
    "locations = city_data_df[[\"Lat\", \"Lng\"]]\n",
    "wind = city_data_df[\"Wind Speed\"]\n",
    "\n",
    "fig = gmaps.figure(center=(30.0, 31.0), zoom_level=1.5)\n",
    "heat_layer = gmaps.heatmap_layer(locations, weights=wind, dissipating=False, max_intensity=300, point_radius=4)\n",
    "\n",
    "fig.add_layer(heat_layer)\n",
    "# Call the figure to plot the data.\n",
    "fig"
   ]
  },
  {
   "cell_type": "code",
   "execution_count": 19,
   "id": "f0829eba",
   "metadata": {},
   "outputs": [
    {
     "name": "stdout",
     "output_type": "stream",
     "text": [
      "What is the minimum temperature you would like for your trip? 35\n",
      "What is the maximum temperature you would like for your trip? 65\n"
     ]
    }
   ],
   "source": [
    "# Ask the customer to add a minimum and maximum temperature value.\n",
    "min_temp = float(input(\"What is the minimum temperature you would like for your trip? \"))\n",
    "max_temp = float(input(\"What is the maximum temperature you would like for your trip? \"))"
   ]
  },
  {
   "cell_type": "code",
   "execution_count": 20,
   "id": "c83c2ec2",
   "metadata": {},
   "outputs": [
    {
     "data": {
      "text/html": [
       "<div>\n",
       "<style scoped>\n",
       "    .dataframe tbody tr th:only-of-type {\n",
       "        vertical-align: middle;\n",
       "    }\n",
       "\n",
       "    .dataframe tbody tr th {\n",
       "        vertical-align: top;\n",
       "    }\n",
       "\n",
       "    .dataframe thead th {\n",
       "        text-align: right;\n",
       "    }\n",
       "</style>\n",
       "<table border=\"1\" class=\"dataframe\">\n",
       "  <thead>\n",
       "    <tr style=\"text-align: right;\">\n",
       "      <th></th>\n",
       "      <th>City_ID</th>\n",
       "      <th>City</th>\n",
       "      <th>Cloudiness</th>\n",
       "      <th>Country</th>\n",
       "      <th>Date</th>\n",
       "      <th>Humidity</th>\n",
       "      <th>Lat</th>\n",
       "      <th>Lng</th>\n",
       "      <th>Max Temp</th>\n",
       "      <th>Wind Speed</th>\n",
       "    </tr>\n",
       "  </thead>\n",
       "  <tbody>\n",
       "    <tr>\n",
       "      <th>4</th>\n",
       "      <td>4</td>\n",
       "      <td>Ushuaia</td>\n",
       "      <td>100</td>\n",
       "      <td>AR</td>\n",
       "      <td>2022-03-27 04:00:12</td>\n",
       "      <td>99</td>\n",
       "      <td>-54.8000</td>\n",
       "      <td>-68.3000</td>\n",
       "      <td>39.94</td>\n",
       "      <td>5.23</td>\n",
       "    </tr>\n",
       "    <tr>\n",
       "      <th>6</th>\n",
       "      <td>6</td>\n",
       "      <td>Castro</td>\n",
       "      <td>36</td>\n",
       "      <td>BR</td>\n",
       "      <td>2022-03-27 04:01:15</td>\n",
       "      <td>95</td>\n",
       "      <td>-24.7911</td>\n",
       "      <td>-50.0119</td>\n",
       "      <td>59.99</td>\n",
       "      <td>2.21</td>\n",
       "    </tr>\n",
       "    <tr>\n",
       "      <th>9</th>\n",
       "      <td>9</td>\n",
       "      <td>Cape Town</td>\n",
       "      <td>56</td>\n",
       "      <td>ZA</td>\n",
       "      <td>2022-03-27 04:00:06</td>\n",
       "      <td>77</td>\n",
       "      <td>-33.9258</td>\n",
       "      <td>18.4232</td>\n",
       "      <td>62.11</td>\n",
       "      <td>4.38</td>\n",
       "    </tr>\n",
       "    <tr>\n",
       "      <th>10</th>\n",
       "      <td>10</td>\n",
       "      <td>Pingzhuang</td>\n",
       "      <td>0</td>\n",
       "      <td>CN</td>\n",
       "      <td>2022-03-27 04:01:17</td>\n",
       "      <td>14</td>\n",
       "      <td>42.0372</td>\n",
       "      <td>119.2889</td>\n",
       "      <td>43.77</td>\n",
       "      <td>20.69</td>\n",
       "    </tr>\n",
       "    <tr>\n",
       "      <th>11</th>\n",
       "      <td>11</td>\n",
       "      <td>Peniche</td>\n",
       "      <td>10</td>\n",
       "      <td>PT</td>\n",
       "      <td>2022-03-27 04:01:02</td>\n",
       "      <td>82</td>\n",
       "      <td>39.3558</td>\n",
       "      <td>-9.3811</td>\n",
       "      <td>56.93</td>\n",
       "      <td>16.71</td>\n",
       "    </tr>\n",
       "    <tr>\n",
       "      <th>12</th>\n",
       "      <td>12</td>\n",
       "      <td>Fukue</td>\n",
       "      <td>25</td>\n",
       "      <td>JP</td>\n",
       "      <td>2022-03-27 04:01:17</td>\n",
       "      <td>71</td>\n",
       "      <td>32.6881</td>\n",
       "      <td>128.8419</td>\n",
       "      <td>57.92</td>\n",
       "      <td>13.02</td>\n",
       "    </tr>\n",
       "    <tr>\n",
       "      <th>14</th>\n",
       "      <td>14</td>\n",
       "      <td>Penzance</td>\n",
       "      <td>0</td>\n",
       "      <td>GB</td>\n",
       "      <td>2022-03-27 04:01:18</td>\n",
       "      <td>84</td>\n",
       "      <td>50.1186</td>\n",
       "      <td>-5.5371</td>\n",
       "      <td>48.51</td>\n",
       "      <td>16.91</td>\n",
       "    </tr>\n",
       "    <tr>\n",
       "      <th>22</th>\n",
       "      <td>22</td>\n",
       "      <td>Xining</td>\n",
       "      <td>6</td>\n",
       "      <td>CN</td>\n",
       "      <td>2022-03-27 04:00:13</td>\n",
       "      <td>32</td>\n",
       "      <td>36.6167</td>\n",
       "      <td>101.7667</td>\n",
       "      <td>42.80</td>\n",
       "      <td>4.83</td>\n",
       "    </tr>\n",
       "    <tr>\n",
       "      <th>25</th>\n",
       "      <td>25</td>\n",
       "      <td>Port Elizabeth</td>\n",
       "      <td>5</td>\n",
       "      <td>ZA</td>\n",
       "      <td>2022-03-27 04:00:17</td>\n",
       "      <td>96</td>\n",
       "      <td>-33.9180</td>\n",
       "      <td>25.5701</td>\n",
       "      <td>61.32</td>\n",
       "      <td>4.45</td>\n",
       "    </tr>\n",
       "    <tr>\n",
       "      <th>26</th>\n",
       "      <td>26</td>\n",
       "      <td>Waterbury</td>\n",
       "      <td>100</td>\n",
       "      <td>US</td>\n",
       "      <td>2022-03-27 04:01:22</td>\n",
       "      <td>89</td>\n",
       "      <td>41.5582</td>\n",
       "      <td>-73.0515</td>\n",
       "      <td>41.85</td>\n",
       "      <td>4.61</td>\n",
       "    </tr>\n",
       "  </tbody>\n",
       "</table>\n",
       "</div>"
      ],
      "text/plain": [
       "    City_ID            City  Cloudiness Country                 Date  \\\n",
       "4         4         Ushuaia         100      AR  2022-03-27 04:00:12   \n",
       "6         6          Castro          36      BR  2022-03-27 04:01:15   \n",
       "9         9       Cape Town          56      ZA  2022-03-27 04:00:06   \n",
       "10       10      Pingzhuang           0      CN  2022-03-27 04:01:17   \n",
       "11       11         Peniche          10      PT  2022-03-27 04:01:02   \n",
       "12       12           Fukue          25      JP  2022-03-27 04:01:17   \n",
       "14       14        Penzance           0      GB  2022-03-27 04:01:18   \n",
       "22       22          Xining           6      CN  2022-03-27 04:00:13   \n",
       "25       25  Port Elizabeth           5      ZA  2022-03-27 04:00:17   \n",
       "26       26       Waterbury         100      US  2022-03-27 04:01:22   \n",
       "\n",
       "    Humidity      Lat       Lng  Max Temp  Wind Speed  \n",
       "4         99 -54.8000  -68.3000     39.94        5.23  \n",
       "6         95 -24.7911  -50.0119     59.99        2.21  \n",
       "9         77 -33.9258   18.4232     62.11        4.38  \n",
       "10        14  42.0372  119.2889     43.77       20.69  \n",
       "11        82  39.3558   -9.3811     56.93       16.71  \n",
       "12        71  32.6881  128.8419     57.92       13.02  \n",
       "14        84  50.1186   -5.5371     48.51       16.91  \n",
       "22        32  36.6167  101.7667     42.80        4.83  \n",
       "25        96 -33.9180   25.5701     61.32        4.45  \n",
       "26        89  41.5582  -73.0515     41.85        4.61  "
      ]
     },
     "execution_count": 20,
     "metadata": {},
     "output_type": "execute_result"
    }
   ],
   "source": [
    "# Filter the dataset to find the cities that fit the criteria.\n",
    "preferred_cities_df = city_data_df.loc[(city_data_df[\"Max Temp\"] <= max_temp) & \\\n",
    "                                       (city_data_df[\"Max Temp\"] >= min_temp)]\n",
    "preferred_cities_df.head(10)"
   ]
  },
  {
   "cell_type": "code",
   "execution_count": 21,
   "id": "8ce09d60",
   "metadata": {},
   "outputs": [
    {
     "data": {
      "text/plain": [
       "City_ID       176\n",
       "City          176\n",
       "Cloudiness    176\n",
       "Country       173\n",
       "Date          176\n",
       "Humidity      176\n",
       "Lat           176\n",
       "Lng           176\n",
       "Max Temp      176\n",
       "Wind Speed    176\n",
       "dtype: int64"
      ]
     },
     "execution_count": 21,
     "metadata": {},
     "output_type": "execute_result"
    }
   ],
   "source": [
    "preferred_cities_df.count()"
   ]
  },
  {
   "cell_type": "code",
   "execution_count": 22,
   "id": "a406fc5a",
   "metadata": {},
   "outputs": [
    {
     "data": {
      "text/html": [
       "<div>\n",
       "<style scoped>\n",
       "    .dataframe tbody tr th:only-of-type {\n",
       "        vertical-align: middle;\n",
       "    }\n",
       "\n",
       "    .dataframe tbody tr th {\n",
       "        vertical-align: top;\n",
       "    }\n",
       "\n",
       "    .dataframe thead th {\n",
       "        text-align: right;\n",
       "    }\n",
       "</style>\n",
       "<table border=\"1\" class=\"dataframe\">\n",
       "  <thead>\n",
       "    <tr style=\"text-align: right;\">\n",
       "      <th></th>\n",
       "      <th>City</th>\n",
       "      <th>Country</th>\n",
       "      <th>Max Temp</th>\n",
       "      <th>Lat</th>\n",
       "      <th>Lng</th>\n",
       "      <th>Hotel Name</th>\n",
       "    </tr>\n",
       "  </thead>\n",
       "  <tbody>\n",
       "    <tr>\n",
       "      <th>4</th>\n",
       "      <td>Ushuaia</td>\n",
       "      <td>AR</td>\n",
       "      <td>39.94</td>\n",
       "      <td>-54.8000</td>\n",
       "      <td>-68.3000</td>\n",
       "      <td></td>\n",
       "    </tr>\n",
       "    <tr>\n",
       "      <th>6</th>\n",
       "      <td>Castro</td>\n",
       "      <td>BR</td>\n",
       "      <td>59.99</td>\n",
       "      <td>-24.7911</td>\n",
       "      <td>-50.0119</td>\n",
       "      <td></td>\n",
       "    </tr>\n",
       "    <tr>\n",
       "      <th>9</th>\n",
       "      <td>Cape Town</td>\n",
       "      <td>ZA</td>\n",
       "      <td>62.11</td>\n",
       "      <td>-33.9258</td>\n",
       "      <td>18.4232</td>\n",
       "      <td></td>\n",
       "    </tr>\n",
       "    <tr>\n",
       "      <th>10</th>\n",
       "      <td>Pingzhuang</td>\n",
       "      <td>CN</td>\n",
       "      <td>43.77</td>\n",
       "      <td>42.0372</td>\n",
       "      <td>119.2889</td>\n",
       "      <td></td>\n",
       "    </tr>\n",
       "    <tr>\n",
       "      <th>11</th>\n",
       "      <td>Peniche</td>\n",
       "      <td>PT</td>\n",
       "      <td>56.93</td>\n",
       "      <td>39.3558</td>\n",
       "      <td>-9.3811</td>\n",
       "      <td></td>\n",
       "    </tr>\n",
       "    <tr>\n",
       "      <th>12</th>\n",
       "      <td>Fukue</td>\n",
       "      <td>JP</td>\n",
       "      <td>57.92</td>\n",
       "      <td>32.6881</td>\n",
       "      <td>128.8419</td>\n",
       "      <td></td>\n",
       "    </tr>\n",
       "    <tr>\n",
       "      <th>14</th>\n",
       "      <td>Penzance</td>\n",
       "      <td>GB</td>\n",
       "      <td>48.51</td>\n",
       "      <td>50.1186</td>\n",
       "      <td>-5.5371</td>\n",
       "      <td></td>\n",
       "    </tr>\n",
       "    <tr>\n",
       "      <th>22</th>\n",
       "      <td>Xining</td>\n",
       "      <td>CN</td>\n",
       "      <td>42.80</td>\n",
       "      <td>36.6167</td>\n",
       "      <td>101.7667</td>\n",
       "      <td></td>\n",
       "    </tr>\n",
       "    <tr>\n",
       "      <th>25</th>\n",
       "      <td>Port Elizabeth</td>\n",
       "      <td>ZA</td>\n",
       "      <td>61.32</td>\n",
       "      <td>-33.9180</td>\n",
       "      <td>25.5701</td>\n",
       "      <td></td>\n",
       "    </tr>\n",
       "    <tr>\n",
       "      <th>26</th>\n",
       "      <td>Waterbury</td>\n",
       "      <td>US</td>\n",
       "      <td>41.85</td>\n",
       "      <td>41.5582</td>\n",
       "      <td>-73.0515</td>\n",
       "      <td></td>\n",
       "    </tr>\n",
       "  </tbody>\n",
       "</table>\n",
       "</div>"
      ],
      "text/plain": [
       "              City Country  Max Temp      Lat       Lng Hotel Name\n",
       "4          Ushuaia      AR     39.94 -54.8000  -68.3000           \n",
       "6           Castro      BR     59.99 -24.7911  -50.0119           \n",
       "9        Cape Town      ZA     62.11 -33.9258   18.4232           \n",
       "10      Pingzhuang      CN     43.77  42.0372  119.2889           \n",
       "11         Peniche      PT     56.93  39.3558   -9.3811           \n",
       "12           Fukue      JP     57.92  32.6881  128.8419           \n",
       "14        Penzance      GB     48.51  50.1186   -5.5371           \n",
       "22          Xining      CN     42.80  36.6167  101.7667           \n",
       "25  Port Elizabeth      ZA     61.32 -33.9180   25.5701           \n",
       "26       Waterbury      US     41.85  41.5582  -73.0515           "
      ]
     },
     "execution_count": 22,
     "metadata": {},
     "output_type": "execute_result"
    }
   ],
   "source": [
    "# Create DataFrame called hotel_df to store hotel names along with city, country, max temp, and coordinates.\n",
    "hotel_df = preferred_cities_df[[\"City\", \"Country\", \"Max Temp\", \"Lat\", \"Lng\"]].copy()\n",
    "hotel_df[\"Hotel Name\"] = \"\"\n",
    "hotel_df.head(10)"
   ]
  },
  {
   "cell_type": "code",
   "execution_count": 23,
   "id": "a56ddaa6",
   "metadata": {},
   "outputs": [],
   "source": [
    "# Set parameters to search for a hotel.\n",
    "params = {\n",
    "    \"radius\": 5000,\n",
    "    \"type\": \"lodging\",\n",
    "    \"key\": g_key\n",
    "}"
   ]
  },
  {
   "cell_type": "code",
   "execution_count": 30,
   "id": "3ffec744",
   "metadata": {},
   "outputs": [
    {
     "name": "stdout",
     "output_type": "stream",
     "text": [
      "Hotel not found... skipping.\n",
      "Hotel not found... skipping.\n",
      "Hotel not found... skipping.\n",
      "Hotel not found... skipping.\n",
      "Hotel not found... skipping.\n",
      "Hotel not found... skipping.\n",
      "Hotel not found... skipping.\n"
     ]
    }
   ],
   "source": [
    "# Iterate through the DataFrame.\n",
    "for index, row in hotel_df.iterrows():\n",
    "    # Get the latitude and longitude.\n",
    "    lat = row[\"Lat\"]\n",
    "    lng = row[\"Lng\"]\n",
    "\n",
    "    # Add the latitude and longitude to location key for the params dictionary.\n",
    "    params[\"location\"] = f\"{lat},{lng}\"\n",
    "\n",
    "    # Use the search term: \"lodging\" and our latitude and longitude.\n",
    "    base_url = \"https://maps.googleapis.com/maps/api/place/nearbysearch/json\"\n",
    "    # Make request and get the JSON data from the search.\n",
    "    hotels = requests.get(base_url, params=params).json()\n",
    "    # Grab the first hotel from the results and store the name.\n",
    "    try:\n",
    "        hotel_df.loc[index, \"Hotel Name\"] = hotels[\"results\"][0][\"name\"]\n",
    "    except (IndexError):\n",
    "        print(\"Hotel not found... skipping.\")"
   ]
  },
  {
   "cell_type": "code",
   "execution_count": 32,
   "id": "f1f70d5c",
   "metadata": {},
   "outputs": [
    {
     "data": {
      "text/html": [
       "<div>\n",
       "<style scoped>\n",
       "    .dataframe tbody tr th:only-of-type {\n",
       "        vertical-align: middle;\n",
       "    }\n",
       "\n",
       "    .dataframe tbody tr th {\n",
       "        vertical-align: top;\n",
       "    }\n",
       "\n",
       "    .dataframe thead th {\n",
       "        text-align: right;\n",
       "    }\n",
       "</style>\n",
       "<table border=\"1\" class=\"dataframe\">\n",
       "  <thead>\n",
       "    <tr style=\"text-align: right;\">\n",
       "      <th></th>\n",
       "      <th>City</th>\n",
       "      <th>Country</th>\n",
       "      <th>Max Temp</th>\n",
       "      <th>Lat</th>\n",
       "      <th>Lng</th>\n",
       "      <th>Hotel Name</th>\n",
       "    </tr>\n",
       "  </thead>\n",
       "  <tbody>\n",
       "    <tr>\n",
       "      <th>4</th>\n",
       "      <td>Ushuaia</td>\n",
       "      <td>AR</td>\n",
       "      <td>39.94</td>\n",
       "      <td>-54.8000</td>\n",
       "      <td>-68.3000</td>\n",
       "      <td>Albatross Hotel</td>\n",
       "    </tr>\n",
       "    <tr>\n",
       "      <th>6</th>\n",
       "      <td>Castro</td>\n",
       "      <td>BR</td>\n",
       "      <td>59.99</td>\n",
       "      <td>-24.7911</td>\n",
       "      <td>-50.0119</td>\n",
       "      <td>CHACARA BAILLY</td>\n",
       "    </tr>\n",
       "    <tr>\n",
       "      <th>9</th>\n",
       "      <td>Cape Town</td>\n",
       "      <td>ZA</td>\n",
       "      <td>62.11</td>\n",
       "      <td>-33.9258</td>\n",
       "      <td>18.4232</td>\n",
       "      <td>Radisson Blu Hotel Waterfront, Cape Town</td>\n",
       "    </tr>\n",
       "    <tr>\n",
       "      <th>10</th>\n",
       "      <td>Pingzhuang</td>\n",
       "      <td>CN</td>\n",
       "      <td>43.77</td>\n",
       "      <td>42.0372</td>\n",
       "      <td>119.2889</td>\n",
       "      <td>Haoke Guest House</td>\n",
       "    </tr>\n",
       "    <tr>\n",
       "      <th>11</th>\n",
       "      <td>Peniche</td>\n",
       "      <td>PT</td>\n",
       "      <td>56.93</td>\n",
       "      <td>39.3558</td>\n",
       "      <td>-9.3811</td>\n",
       "      <td>Hotel Star inn Peniche</td>\n",
       "    </tr>\n",
       "    <tr>\n",
       "      <th>12</th>\n",
       "      <td>Fukue</td>\n",
       "      <td>JP</td>\n",
       "      <td>57.92</td>\n",
       "      <td>32.6881</td>\n",
       "      <td>128.8419</td>\n",
       "      <td>Goto Guesthouse Utojuku &amp; SA Car Rental</td>\n",
       "    </tr>\n",
       "    <tr>\n",
       "      <th>14</th>\n",
       "      <td>Penzance</td>\n",
       "      <td>GB</td>\n",
       "      <td>48.51</td>\n",
       "      <td>50.1186</td>\n",
       "      <td>-5.5371</td>\n",
       "      <td>Artist Residence Penzance</td>\n",
       "    </tr>\n",
       "    <tr>\n",
       "      <th>22</th>\n",
       "      <td>Xining</td>\n",
       "      <td>CN</td>\n",
       "      <td>42.80</td>\n",
       "      <td>36.6167</td>\n",
       "      <td>101.7667</td>\n",
       "      <td>Super Leisure Hotel</td>\n",
       "    </tr>\n",
       "    <tr>\n",
       "      <th>25</th>\n",
       "      <td>Port Elizabeth</td>\n",
       "      <td>ZA</td>\n",
       "      <td>61.32</td>\n",
       "      <td>-33.9180</td>\n",
       "      <td>25.5701</td>\n",
       "      <td>39 On Nile Guest House</td>\n",
       "    </tr>\n",
       "    <tr>\n",
       "      <th>26</th>\n",
       "      <td>Waterbury</td>\n",
       "      <td>US</td>\n",
       "      <td>41.85</td>\n",
       "      <td>41.5582</td>\n",
       "      <td>-73.0515</td>\n",
       "      <td>Courtyard by Marriott Waterbury Downtown</td>\n",
       "    </tr>\n",
       "  </tbody>\n",
       "</table>\n",
       "</div>"
      ],
      "text/plain": [
       "              City Country  Max Temp      Lat       Lng  \\\n",
       "4          Ushuaia      AR     39.94 -54.8000  -68.3000   \n",
       "6           Castro      BR     59.99 -24.7911  -50.0119   \n",
       "9        Cape Town      ZA     62.11 -33.9258   18.4232   \n",
       "10      Pingzhuang      CN     43.77  42.0372  119.2889   \n",
       "11         Peniche      PT     56.93  39.3558   -9.3811   \n",
       "12           Fukue      JP     57.92  32.6881  128.8419   \n",
       "14        Penzance      GB     48.51  50.1186   -5.5371   \n",
       "22          Xining      CN     42.80  36.6167  101.7667   \n",
       "25  Port Elizabeth      ZA     61.32 -33.9180   25.5701   \n",
       "26       Waterbury      US     41.85  41.5582  -73.0515   \n",
       "\n",
       "                                  Hotel Name  \n",
       "4                            Albatross Hotel  \n",
       "6                             CHACARA BAILLY  \n",
       "9   Radisson Blu Hotel Waterfront, Cape Town  \n",
       "10                         Haoke Guest House  \n",
       "11                    Hotel Star inn Peniche  \n",
       "12   Goto Guesthouse Utojuku & SA Car Rental  \n",
       "14                 Artist Residence Penzance  \n",
       "22                       Super Leisure Hotel  \n",
       "25                    39 On Nile Guest House  \n",
       "26  Courtyard by Marriott Waterbury Downtown  "
      ]
     },
     "execution_count": 32,
     "metadata": {},
     "output_type": "execute_result"
    }
   ],
   "source": [
    "hotel_df.head(10)"
   ]
  },
  {
   "cell_type": "code",
   "execution_count": 34,
   "id": "da846e71",
   "metadata": {},
   "outputs": [
    {
     "data": {
      "application/vnd.jupyter.widget-view+json": {
       "model_id": "6e8604e5364f41c5b608ffc56c480fec",
       "version_major": 2,
       "version_minor": 0
      },
      "text/plain": [
       "Figure(layout=FigureLayout(height='420px'))"
      ]
     },
     "metadata": {},
     "output_type": "display_data"
    }
   ],
   "source": [
    "# Add a heatmap of temperature for the vacation spots and marker for each city.\n",
    "locations = hotel_df[[\"Lat\", \"Lng\"]]\n",
    "max_temp = hotel_df[\"Max Temp\"]\n",
    "fig = gmaps.figure(center=(30.0, 31.0), zoom_level=1.5)\n",
    "heat_layer = gmaps.heatmap_layer(locations, weights=max_temp,\n",
    "             dissipating=False, max_intensity=300, point_radius=4)\n",
    "marker_layer = gmaps.marker_layer(locations)\n",
    "fig.add_layer(heat_layer)\n",
    "fig.add_layer(marker_layer)\n",
    "# Call the figure to plot the data.\n",
    "fig"
   ]
  },
  {
   "cell_type": "code",
   "execution_count": 35,
   "id": "70a9ac64",
   "metadata": {},
   "outputs": [],
   "source": [
    "info_box_template = \"\"\"\n",
    "<dl>\n",
    "<dt>Hotel Name</dt><dd>{Hotel Name}</dd>\n",
    "<dt>City</dt><dd>{City}</dd>\n",
    "<dt>Country</dt><dd>{Country}</dd>\n",
    "<dt>Max Temp</dt><dd>{Max Temp} °F</dd>\n",
    "</dl>\n",
    "\"\"\""
   ]
  },
  {
   "cell_type": "code",
   "execution_count": 36,
   "id": "a36aa30c",
   "metadata": {},
   "outputs": [],
   "source": [
    "# Store the DataFrame Row.\n",
    "hotel_info = [info_box_template.format(**row) for index, row in hotel_df.iterrows()]"
   ]
  },
  {
   "cell_type": "code",
   "execution_count": 37,
   "id": "2a3e0123",
   "metadata": {},
   "outputs": [
    {
     "data": {
      "application/vnd.jupyter.widget-view+json": {
       "model_id": "3862b9b99a6946b7b75f52d271956f27",
       "version_major": 2,
       "version_minor": 0
      },
      "text/plain": [
       "Figure(layout=FigureLayout(height='420px'))"
      ]
     },
     "metadata": {},
     "output_type": "display_data"
    }
   ],
   "source": [
    "# Add a heatmap of temperature for the vacation spots and a pop-up marker for each city.\n",
    "locations = hotel_df[[\"Lat\", \"Lng\"]]\n",
    "max_temp = hotel_df[\"Max Temp\"]\n",
    "fig = gmaps.figure(center=(30.0, 31.0), zoom_level=1.5)\n",
    "heat_layer = gmaps.heatmap_layer(locations, weights=max_temp,dissipating=False,\n",
    "             max_intensity=300, point_radius=4)\n",
    "marker_layer = gmaps.marker_layer(locations, info_box_content=hotel_info)\n",
    "fig.add_layer(heat_layer)\n",
    "fig.add_layer(marker_layer)\n",
    "\n",
    "# Call the figure to plot the data.\n",
    "fig"
   ]
  },
  {
   "cell_type": "code",
   "execution_count": null,
   "id": "7f24fc03",
   "metadata": {},
   "outputs": [],
   "source": []
  }
 ],
 "metadata": {
  "kernelspec": {
   "display_name": "PythonData",
   "language": "python",
   "name": "pythondata"
  },
  "language_info": {
   "codemirror_mode": {
    "name": "ipython",
    "version": 3
   },
   "file_extension": ".py",
   "mimetype": "text/x-python",
   "name": "python",
   "nbconvert_exporter": "python",
   "pygments_lexer": "ipython3",
   "version": "3.7.11"
  }
 },
 "nbformat": 4,
 "nbformat_minor": 5
}
